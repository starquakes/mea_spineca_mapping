{
 "cells": [
  {
   "cell_type": "markdown",
   "metadata": {},
   "source": [
    "# Part 2) Perform acceptance test\n",
    "\n",
    "In this notebook, we show how we would accept or reject the spike train with the best match to a given spine response as a monosynaptic connection.\n",
    "\n",
    "In general, the correlation R-value of the best-match spike train with a given spine response varies across recordings. This could be explained by the diversity of release probablities, noise levels, or the fact that the real presynaptic cell is not being recorded extracellularly. \n",
    "\n",
    "In order to gain insights what the distribution of R-value would be given these factors, we turn to surrogate methods.\n",
    "\n",
    "After finding the best-match unit in a recordng, we simulate surrogate calcium traces as if there was a ground-truth monosynaptic connection between the best-match spike train and a *virtual spine*. In doing so, we also model a distribution of probability releases and we match the noise levels to the imaging data.\n",
    "With all the simulated surrogate spine traces, we compute the surrogate distribution of R-values given the ground-truth monosynaptic connection (GT-Rs).\n",
    "\n",
    "Next, we identify the unit with the second-best R-value from the correlation test in part 1 for the given spine and we simulate surrogate spine responses for this second best unit. Using our original best match unit spike train, we can compute an R-value distribution called test R-values (Test-Rs). This distribution tells us the R-values assuming that there is actually a monosynaptic connection between the second -best spike train and the given spine, but not from the the best match spike train.\n",
    "\n",
    "\n",
    "We can finally compare the experimentally obtained R-value to the surrogate R-value distributions to answer the following questions:\n",
    "\n",
    "- Does the experimentally obtained R-value reflects an actual monosynaptic connection?\n",
    "- Could we observe the experimentally obtained R-value if there was a monosynaptic connection from another sorted unit, but not the best match?"
   ]
  },
  {
   "cell_type": "code",
   "execution_count": null,
   "metadata": {},
   "outputs": [],
   "source": [
    "%load_ext autoreload\n",
    "%autoreload 2"
   ]
  },
  {
   "cell_type": "code",
   "execution_count": null,
   "metadata": {},
   "outputs": [],
   "source": [
    "import numpy as np\n",
    "import roiextractors as re\n",
    "import matplotlib.pyplot as plt\n",
    "from pathlib import Path\n",
    "import quantities as pq\n",
    "import seaborn as sns\n",
    "from elephant.statistics import instantaneous_rate\n",
    "from elephant import kernels\n",
    "import scipy.signal as ss\n",
    "import scipy.stats as stats\n",
    "import scipy.ndimage as ndimg\n",
    "from joblib import Parallel, delayed\n",
    "from tqdm import tqdm\n",
    "import sys\n",
    "\n",
    "%matplotlib notebook"
   ]
  },
  {
   "cell_type": "code",
   "execution_count": null,
   "metadata": {},
   "outputs": [],
   "source": [
    "sys.path.append(\"..\")\n",
    "from imaging_tools import *"
   ]
  },
  {
   "cell_type": "markdown",
   "metadata": {},
   "source": [
    "# 1. Simulate calcium spine responses from best match"
   ]
  },
  {
   "cell_type": "markdown",
   "metadata": {},
   "source": [
    "## 1.1. Estimation of noise term from real images\n",
    "\n",
    "What makes the calcium spine responses vary from the convolved presynaptic spike train? We first consider the noise. The level of measured noise from the imaging setup, which can be extracted from the imaging data. In our case, we model the noise as white noise, as in [Deneux et al. 2016](https://www.nature.com/articles/ncomms12190). "
   ]
  },
  {
   "cell_type": "code",
   "execution_count": null,
   "metadata": {},
   "outputs": [],
   "source": [
    "# load saved output from part1 \n",
    "saved_var = np.load('saved_data_P1.npz',allow_pickle=True)\n",
    "\n",
    "spiketrains = saved_var['spiketrains']\n",
    "best_match = saved_var['best_match']\n",
    "second_match = saved_var['second_match']\n",
    "best_r = saved_var['best_r']\n",
    "individual_frs_ds_dff = saved_var['individual_frs_ds_dff']\n",
    "keep_network_idxs = saved_var['keep']"
   ]
  },
  {
   "cell_type": "code",
   "execution_count": null,
   "metadata": {},
   "outputs": [],
   "source": [
    "nwb_file_path = \"...\"\n",
    "_, imag, _, _, mea_duration, ds_idxs = load_nwb_file(nwb_file_path)"
   ]
  },
  {
   "cell_type": "code",
   "execution_count": null,
   "metadata": {},
   "outputs": [],
   "source": [
    "# extract noise from the real image\n",
    "# randomly draw 1 roi from background without signal\n",
    "\n",
    "avg_im = compute_avg_video(imag, stride=100)\n",
    "rois_n = select_rois(avg_im)"
   ]
  },
  {
   "cell_type": "code",
   "execution_count": null,
   "metadata": {},
   "outputs": [],
   "source": [
    "# extract spine ROI from the imaging\n",
    "rois_s = select_rois(avg_im)"
   ]
  },
  {
   "cell_type": "code",
   "execution_count": null,
   "metadata": {},
   "outputs": [],
   "source": [
    "traces_n = extract_roi_activity(imag, rois_n[0], return_mean=False)\n",
    "traces_s = extract_roi_activity(imag, rois_s[0], return_mean=False)\n",
    "timestamps = np.linspace(0, mea_duration, imag.get_num_frames())"
   ]
  },
  {
   "cell_type": "code",
   "execution_count": null,
   "metadata": {
    "scrolled": false
   },
   "outputs": [],
   "source": [
    "fig_ns, ax_ns = plt.subplots()\n",
    "_ = ax_ns.plot(timestamps, traces_n.T, color=\"k\", alpha=0.2)\n",
    "_ = ax_ns.plot(timestamps, traces_s.T, color=\"C0\", alpha=0.2)\n",
    "ax_ns.set_xlim(100, 120)\n",
    "ax_ns.set_xlabel(\"time (s)\", fontsize=12)\n",
    "ax_ns.set_ylabel(\"fluorescence level (a.u.)\", fontsize=12)"
   ]
  },
  {
   "cell_type": "code",
   "execution_count": null,
   "metadata": {},
   "outputs": [],
   "source": [
    "n_pixels = np.min((len(traces_n),len(traces_s)))\n",
    "idx_pixel = sorted(np.random.permutation(np.arange(len(traces_s)))[:np.int(np.ceil(n_pixels))])\n",
    "std_noise = np.std(traces_n[idx_pixel], axis=1)\n",
    "std_signal = np.std(traces_s, axis=1)"
   ]
  },
  {
   "cell_type": "code",
   "execution_count": null,
   "metadata": {
    "scrolled": false
   },
   "outputs": [],
   "source": [
    "plt.figure()\n",
    "sns.kdeplot(\n",
    "   traces_n[0],\n",
    "   fill=True, common_norm=False, palette=\"crest\",\n",
    "   alpha=.5, linewidth=0)\n",
    "sns.kdeplot(\n",
    "   traces_s[0],\n",
    "   fill=True, common_norm=False, palette=\"crest\",\n",
    "   alpha=.5, linewidth=0)"
   ]
  },
  {
   "cell_type": "code",
   "execution_count": null,
   "metadata": {},
   "outputs": [],
   "source": [
    "# We use the median of the medians of each signal pixel as baseline for the simulated trace\n",
    "medians_signal = np.median(traces_s, 1)\n",
    "baseline_signal = np.median(medians_signal) "
   ]
  },
  {
   "cell_type": "markdown",
   "metadata": {},
   "source": [
    "## 1.2. Release probablities\n",
    "\n",
    "The second variable to be considered to simulate the calcium spine responses from a spike train is the release probablility. Here we use a set of random values following a log-normal distribution ($\\mu$=2.5, $\\sigma$=0.6) and scale by 0.01 as the release probability for simulation. "
   ]
  },
  {
   "cell_type": "code",
   "execution_count": null,
   "metadata": {},
   "outputs": [],
   "source": [
    "# load release probability\n",
    "release_probs = np.load('log_release_Pr.npy')\n",
    "\n",
    "# optinal --> generate log-normally distributed release probability\n",
    "# n_surrogates = 1000\n",
    "# mean = 2.5\n",
    "# sigma = 0.6\n",
    "\n",
    "# release_probs = np.random.lognormal(mean,sigma,n_surrogates)/100\n",
    "# release_probs[release_probs > 1] = np.random.random(len(release_probs[release_probs > 1]))\n",
    "plt.figure()\n",
    "plt.hist(release_probs, bins=50)"
   ]
  },
  {
   "cell_type": "markdown",
   "metadata": {},
   "source": [
    "## 1.3. Simulation\n",
    "\n",
    "To simulate the surrogate calcium spine responses, we first incorporate the simulated release probability with the spike trains, and convolve with the same kernel in part1 to get the simulated calcium traces of spike trains. Then, we add the whitenoise to the simulated calcium traces to get the more realistic simulation of spine calcium traces."
   ]
  },
  {
   "cell_type": "code",
   "execution_count": null,
   "metadata": {},
   "outputs": [],
   "source": [
    "# Compute GT surrogates for the BT-match (method = 'GT_bm')\n",
    "n_surrogates = 1000\n",
    "PPRCTL = 25 \n",
    "PLEN = 100\n",
    "\n",
    "gt_surrogates = generate_surrogates(n_surrogates, imag.get_num_frames(), release_probs, spiketrains,best_match,\n",
    "                                    ds_idxs, std_noise, std_signal, baseline_signal, PLEN, PPRCTL, method='GT_single')"
   ]
  },
  {
   "cell_type": "code",
   "execution_count": null,
   "metadata": {},
   "outputs": [],
   "source": [
    "fig_sim, ax_sim = plt.subplots(figsize=(8, 8))\n",
    "# randomly draw 5 surrogate traces\n",
    "surr_idxs = np.random.permutation(n_surrogates)[:5]\n",
    "for surr_i in surr_idxs:\n",
    "    print(release_probs[surr_i])\n",
    "    ax_sim.plot(timestamps, gt_surrogates[surr_i], label=f\"Release prob: {np.round(release_probs[surr_i], 2)}\",\n",
    "                alpha=0.6)\n",
    "ax_sim.plot(spiketrains[best_match], np.zeros_like(spiketrains[best_match]), \"k\", marker=\"|\", ls=\"\")\n",
    "ax_sim.set_xlabel(\"time (s)\", fontsize=12)\n",
    "ax_sim.set_ylabel(\"simulated fluorescence level (a.u.)\", fontsize=12)\n",
    "ax_sim.plot(spiketrains[best_match].times, np.zeros_like(spiketrains[best_match].times), '|', color='k',lw=0.1,\n",
    "             label=\"spike train\")\n",
    "ax_sim.set_xlim(80, 100)\n",
    "ax_sim.legend()"
   ]
  },
  {
   "cell_type": "markdown",
   "metadata": {},
   "source": [
    "# 2.  Compute R-value distributions"
   ]
  },
  {
   "cell_type": "markdown",
   "metadata": {},
   "source": [
    "## 2.1. GT-Rs\n",
    "\n",
    "First, we compute the GT-Rs distribution, i.e. the distribution of R-values computed with the convolved best-match spike train and the surrogate spine traces computed in 1.3."
   ]
  },
  {
   "cell_type": "code",
   "execution_count": null,
   "metadata": {},
   "outputs": [],
   "source": [
    "# Calculating correlation R-values to GT surrogates with all recorded spike trains\n",
    "# to collect GT-Rs\n",
    "\n",
    "GT_Rs = []\n",
    "    \n",
    "for k in range(n_surrogates):\n",
    "    r, p = stats.pearsonr(gt_surrogates[k][keep_network_idxs], individual_frs_ds_dff[best_match][keep_network_idxs])\n",
    "    GT_Rs.append(r)        \n",
    "GT_Rs = np.array(GT_Rs)"
   ]
  },
  {
   "cell_type": "markdown",
   "metadata": {},
   "source": [
    "## 2.2. Test-Rs \n",
    "\n",
    "Second, we compute the Test-Rs distribution, i.e. the distribution of R-values between the best-match spike train and surrogate spine traces simulated using the second best-match spike train."
   ]
  },
  {
   "cell_type": "code",
   "execution_count": null,
   "metadata": {},
   "outputs": [],
   "source": [
    "# Compute test surrogates\n",
    "\n",
    "test_surrogates = generate_surrogates(n_surrogates, imag.get_num_frames(), release_probs, spiketrains,\n",
    "                                     second_match, ds_idxs, std_noise, std_signal, \n",
    "                                     baseline_signal, PLEN, PPRCTL, method='GT_single')"
   ]
  },
  {
   "cell_type": "code",
   "execution_count": null,
   "metadata": {},
   "outputs": [],
   "source": [
    "test_Rs = []\n",
    "\n",
    "for k in range(n_surrogates):\n",
    "    r_second,p_second = stats.pearsonr(test_surrogates[k][keep_network_idxs], individual_frs_ds_dff[best_match][keep_network_idxs])\n",
    "    test_Rs.append(r_second)\n",
    "test_Rs = np.array(test_Rs)  "
   ]
  },
  {
   "cell_type": "markdown",
   "metadata": {},
   "source": [
    "# 3. Acceptance based on Rs distributions\n",
    "\n",
    "Based on the R-value distributions, we can define quantile thresholds to accept or reject an R-value as a monosynaptic connection.\n",
    "\n",
    "In this case, we will accept the monosynaptic connection in case:\n",
    "\n",
    "- the experimental R-value is above the 95th percentile of the Test-Rs distribution\n",
    "- the experimental R-value is above the 10th percentile of the GT-Rs distribution"
   ]
  },
  {
   "cell_type": "code",
   "execution_count": null,
   "metadata": {
    "scrolled": false
   },
   "outputs": [],
   "source": [
    "# Plot distributions of GT-Rs and test-Rs\n",
    "test_threhsold = np.nanquantile(test_Rs, 0.95)\n",
    "gt_threhsold = np.nanquantile(GT_Rs, 0.10)\n",
    "\n",
    "print(f\"Test-threshold: {test_threhsold} - GT-threshold: {gt_threhsold}\")\n",
    "\n",
    "fig_dist, ax_dist = plt.subplots()\n",
    "ax_dist.hist(test_Rs, bins=30, range=(np.nanmin(test_Rs),1), alpha = 0.5, label = f'Test-Rs')\n",
    "ax_dist.hist(GT_Rs, bins=30, range=(np.nanmin(test_Rs),1), alpha = 0.5, label = f'GT-Rs')\n",
    "ax_dist.axvline(test_threhsold, color='C0', ls='-', label=f'Test Thr={np.round(test_threhsold, 3)}')\n",
    "ax_dist.axvline(gt_threhsold, color='C1', ls='-', label=f'GT Thr={np.round(gt_threhsold, 3)}')\n",
    "ax_dist.axvline(best_r, color='k', ls='--', label=f'Best R ={np.round(best_r, 3)}')\n",
    "ax_dist.set_xlabel(\"R-value\", fontsize=12)\n",
    "ax_dist.set_ylabel(\"frequency\", fontsize=12)\n",
    "ax_dist.legend()"
   ]
  },
  {
   "cell_type": "code",
   "execution_count": null,
   "metadata": {},
   "outputs": [],
   "source": [
    "if best_r > max(test_threhsold, gt_threhsold):\n",
    "    print('Accept the best match unit with the spine as a connection')\n",
    "else:\n",
    "    print('No presynaptic unit is mapped for the spine')"
   ]
  },
  {
   "cell_type": "markdown",
   "metadata": {},
   "source": [
    "# 4. Save data for next part"
   ]
  },
  {
   "cell_type": "markdown",
   "metadata": {},
   "source": [
    "In the next notebook, we will use more surrogate methods to find the quantile thresholds that should be used for an optimal detection of monosynaptic connections."
   ]
  },
  {
   "cell_type": "code",
   "execution_count": null,
   "metadata": {},
   "outputs": [],
   "source": [
    "np.savez('saved_data_P2.npz', release_probs=release_probs, std_noise=std_noise, std_signal=std_signal,baseline_signal=baseline_signal)"
   ]
  }
 ],
 "metadata": {
  "kernelspec": {
   "display_name": "Python 3 (ipykernel)",
   "language": "python",
   "name": "python3"
  },
  "language_info": {
   "codemirror_mode": {
    "name": "ipython",
    "version": 3
   },
   "file_extension": ".py",
   "mimetype": "text/x-python",
   "name": "python",
   "nbconvert_exporter": "python",
   "pygments_lexer": "ipython3",
   "version": "3.8.12"
  }
 },
 "nbformat": 4,
 "nbformat_minor": 4
}
