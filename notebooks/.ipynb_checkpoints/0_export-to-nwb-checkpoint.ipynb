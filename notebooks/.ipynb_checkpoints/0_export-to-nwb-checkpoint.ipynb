{
 "cells": [
  {
   "cell_type": "code",
   "execution_count": 1,
   "metadata": {},
   "outputs": [],
   "source": [
    "import spikeextractors as se\n",
    "import roiextractors as re\n",
    "import pynwb \n",
    "import numpy as np\n",
    "from pathlib import Path\n",
    "from datetime import datetime\n",
    "import belextractors as be\n",
    "from nwb_conversion_tools.utils.spike_interface import write_recording, write_sorting, get_nwb_metadata\n",
    "import sys\n",
    "import matplotlib.pyplot as plt\n",
    "\n",
    "%matplotlib inline"
   ]
  },
  {
   "cell_type": "code",
   "execution_count": 3,
   "metadata": {},
   "outputs": [],
   "source": [
    "sys.path.append(\"..\")\n",
    "from imaging_tools import *"
   ]
  },
  {
   "cell_type": "markdown",
   "metadata": {},
   "source": [
    "## Define file paths and load sync data"
   ]
  },
  {
   "cell_type": "code",
   "execution_count": 4,
   "metadata": {},
   "outputs": [],
   "source": [
    "# file paths\n",
    "mea_file = '...' # hdf5 file\n",
    "geci_file = '...' # tiff file\n",
    "sc_folder = '...' # spike sorted data "
   ]
  },
  {
   "cell_type": "code",
   "execution_count": 9,
   "metadata": {},
   "outputs": [
    {
     "name": "stdout",
     "output_type": "stream",
     "text": [
      "MEA duration: 122.73215\n",
      "Ca2+ corrected sampling rate: 9.77738921708778\n"
     ]
    }
   ],
   "source": [
    "recording_sync, imag_sync, sorting_sync, ttls = sync_MEA_imaging(mea_file, geci_file, sc_folder)"
   ]
  },
  {
   "cell_type": "markdown",
   "metadata": {},
   "source": [
    "## Instantiate NWBFile object"
   ]
  },
  {
   "cell_type": "code",
   "execution_count": 10,
   "metadata": {},
   "outputs": [
    {
     "data": {
      "text/plain": [
       "datetime.datetime(2020, 8, 14, 15, 36, 29)"
      ]
     },
     "execution_count": 10,
     "metadata": {},
     "output_type": "execute_result"
    }
   ],
   "source": [
    "session_start_time = get_recording_start_time(mea_file)\n",
    "session_start_time"
   ]
  },
  {
   "cell_type": "code",
   "execution_count": 11,
   "metadata": {},
   "outputs": [],
   "source": [
    "identifier = \"...\"\n",
    "session_description = \"Simultaneous Ca2+ imaging-HD MEA recording to map monosynaptic connections.\"\n",
    "experiment_description = (\"Recording of network-wide extracellular activity with HD-MEA and \"\n",
    "                          \"simultaneous super-resolution calcium imaging to extract single spine responses\")"
   ]
  },
  {
   "cell_type": "code",
   "execution_count": 13,
   "metadata": {},
   "outputs": [],
   "source": [
    "# instantiate file\n",
    "nwbfile = pynwb.NWBFile(identifier=identifier, session_description=session_description, \n",
    "                        session_start_time=session_start_time)"
   ]
  },
  {
   "cell_type": "code",
   "execution_count": 14,
   "metadata": {},
   "outputs": [],
   "source": [
    "# add basic metadata\n",
    "nwbfile.experimenter = \"Xiaohan Xue\"\n",
    "nwbfile.lab = \"Bio Engineering Laboratory (BEL) - Department of Bio Systems Science and Engineeering (D-BSSE)\"\n",
    "nwbfile.institution = \"ETH Zurich\"\n",
    "nwbfile.experiment_description = experiment_description"
   ]
  },
  {
   "cell_type": "markdown",
   "metadata": {},
   "source": [
    "### Modify recording and imaging-specific metadata"
   ]
  },
  {
   "cell_type": "code",
   "execution_count": 15,
   "metadata": {},
   "outputs": [],
   "source": [
    "metadata_rec = get_nwb_metadata(recording_sync)\n",
    "metadata_imag = re.NwbImagingExtractor.get_nwb_metadata(imag_sync)"
   ]
  },
  {
   "cell_type": "code",
   "execution_count": 16,
   "metadata": {},
   "outputs": [],
   "source": [
    "metadata_rec[\"Ecephys\"][\"Device\"][0][\"name\"] = \"Mea1k HD-MEA\"\n",
    "metadata_rec[\"Ecephys\"][\"Device\"][0][\"description\"] = \"Mea1k HD-MEA device with 26'400 electrodes. 1024 recorded simultaneously.\"\n",
    "metadata_rec[\"Ecephys\"][\"ElectrodeGroup\"][0][\"device\"] = \"Mea1k HD-MEA\""
   ]
  },
  {
   "cell_type": "code",
   "execution_count": 17,
   "metadata": {},
   "outputs": [],
   "source": [
    "metadata_imag[\"Ophys\"][\"Device\"][0][\"name\"] = \"Nikon NiE upright confocal microscope\"\n",
    "metadata_imag[\"Ophys\"][\"Device\"][0][\"description\"] = \"Nikon NiE upright microscope equipped with Yokogawa W1 spinning disk scan head, an Andor iXon Ultra EMCCD camera (Oxford Instruments), and 40x/0.80 NA or 60x/1.00 NA water-objectives (Nikon)\"\n",
    "metadata_imag[\"Ophys\"][\"ImagingPlane\"][0][\"description\"] = \"Post-synaptic cell plane\"\n",
    "metadata_imag[\"Ophys\"][\"ImagingPlane\"][0][\"indicator\"] = \"jGCaMP7b\"\n",
    "metadata_imag[\"Ophys\"][\"ImagingPlane\"][0][\"excitation_lambda\"] = \"488\"\n",
    "metadata_imag[\"Ophys\"][\"ImagingPlane\"][0][\"optical_channel\"][0][\"emission_lambda\"] = \"525\""
   ]
  },
  {
   "cell_type": "markdown",
   "metadata": {},
   "source": [
    "## Add recording (only metadata), sorting, and imaging data"
   ]
  },
  {
   "cell_type": "code",
   "execution_count": 1,
   "metadata": {},
   "outputs": [],
   "source": [
    "# export Device and electrode info (no raw traces)\n",
    "write_recording(recording_sync, metadata=metadata_rec, nwbfile=nwbfile, \n",
    "                write_electrical_series=True)"
   ]
  },
  {
   "cell_type": "code",
   "execution_count": 2,
   "metadata": {},
   "outputs": [],
   "source": [
    "nwbfile"
   ]
  },
  {
   "cell_type": "code",
   "execution_count": 20,
   "metadata": {},
   "outputs": [],
   "source": [
    "# export sorted data\n",
    "se.NwbSortingExtractor.write_sorting(sorting=sorting_sync, nwbfile=nwbfile)"
   ]
  },
  {
   "cell_type": "code",
   "execution_count": 3,
   "metadata": {},
   "outputs": [],
   "source": [
    "nwbfile.units"
   ]
  },
  {
   "cell_type": "code",
   "execution_count": 22,
   "metadata": {},
   "outputs": [],
   "source": [
    "# export imaging data\n",
    "re.NwbImagingExtractor.write_imaging(imaging=imag_sync, use_times=True, nwbfile=nwbfile, metadata=metadata_imag)\n",
    "# del nwbfile.devices[\"Microscope\"]"
   ]
  },
  {
   "cell_type": "code",
   "execution_count": 23,
   "metadata": {},
   "outputs": [
    {
     "data": {
      "text/plain": [
       "'Nikon NiE upright microscope equipped with Yokogawa W1 spinning disk scan head, an Andor iXon Ultra EMCCD camera (Oxford Instruments), and 40x/0.80 NA or 60x/1.00 NA water-objectives (Nikon)'"
      ]
     },
     "execution_count": 23,
     "metadata": {},
     "output_type": "execute_result"
    }
   ],
   "source": [
    "# check fields\n",
    "nwbfile.devices['Nikon NiE upright confocal microscope'].description"
   ]
  },
  {
   "cell_type": "markdown",
   "metadata": {},
   "source": [
    "## (optional) write spine ROI and traces"
   ]
  },
  {
   "cell_type": "code",
   "execution_count": 4,
   "metadata": {},
   "outputs": [],
   "source": [
    "avg_im = compute_avg_video(imag_sync, stride=100)\n",
    "rois= select_rois(avg_im) # select spines and respective shafts, in sequence "
   ]
  },
  {
   "cell_type": "code",
   "execution_count": 26,
   "metadata": {},
   "outputs": [
    {
     "name": "stderr",
     "output_type": "stream",
     "text": [
      "Extracting ROI of size 7: 100%|#############################################################################################| 1200/1200 [00:10<00:00, 117.99it/s]\n",
      "Extracting ROI of size 21: 100%|###########################################################################################| 1200/1200 [00:00<00:00, 2323.08it/s]\n"
     ]
    }
   ],
   "source": [
    "trace_spine = extract_roi_activity(imag_sync, rois[0])\n",
    "trace_dff_spine, _ = dff(trace_spine)\n",
    "trace_shaft = extract_roi_activity(imag_sync, rois[1])\n",
    "trace_dff_shaft, _ = dff(trace_shaft)"
   ]
  },
  {
   "cell_type": "code",
   "execution_count": 27,
   "metadata": {},
   "outputs": [],
   "source": [
    "# create masks\n",
    "mask_spine = np.zeros(shape=imag_sync.get_image_size(), dtype=bool)\n",
    "for x, y in rois[0]:\n",
    "    mask_spine[y, x] = 1\n",
    "mask_shaft = np.zeros(shape=imag_sync.get_image_size(), dtype=bool)\n",
    "for x, y in rois[1]:\n",
    "    mask_shaft[y, x] = 1"
   ]
  },
  {
   "cell_type": "code",
   "execution_count": 28,
   "metadata": {},
   "outputs": [],
   "source": [
    "masks = np.stack([mask_spine, mask_shaft], 2)\n",
    "raw_traces = np.vstack([trace_spine, trace_shaft])\n",
    "dff_traces = np.vstack([trace_dff_spine, trace_dff_shaft])"
   ]
  },
  {
   "cell_type": "code",
   "execution_count": 29,
   "metadata": {},
   "outputs": [],
   "source": [
    "seg = re.NumpySegmentationExtractor(image_masks=masks, raw=raw_traces, dff=dff_traces, \n",
    "                                    channel_names=[\"Channel 0\"],\n",
    "                                    sampling_frequency=imag_sync.get_sampling_frequency(),\n",
    "                                    )"
   ]
  },
  {
   "cell_type": "code",
   "execution_count": 30,
   "metadata": {},
   "outputs": [
    {
     "data": {
      "text/plain": [
       "[0, 1]"
      ]
     },
     "execution_count": 30,
     "metadata": {},
     "output_type": "execute_result"
    }
   ],
   "source": [
    "seg.get_roi_ids()"
   ]
  },
  {
   "cell_type": "code",
   "execution_count": 5,
   "metadata": {},
   "outputs": [],
   "source": [
    "metadata_seg = re.NwbSegmentationExtractor.get_nwb_metadata(seg)\n",
    "metadata_seg"
   ]
  },
  {
   "cell_type": "code",
   "execution_count": 32,
   "metadata": {},
   "outputs": [],
   "source": [
    "metadata_seg[\"Ophys\"][\"Device\"][0] = metadata_imag[\"Ophys\"][\"Device\"][0]\n",
    "metadata_seg[\"Ophys\"][\"ImagingPlane\"][0] = metadata_imag[\"Ophys\"][\"ImagingPlane\"][0]\n",
    "metadata_seg[\"Ophys\"][\"ImageSegmentation\"][\"plane_segmentations\"][0][\"description\"] = \"Spine and adjacent shaft ROIs. Even ROI are spines, Odds are correspondent shafts.\"\n",
    "metadata_seg[\"Ophys\"][\"Fluorescence\"][\"roi_response_series\"][0][\"description\"] = \"Raw traces\"\n",
    "metadata_seg[\"Ophys\"][\"Fluorescence\"][\"roi_response_series\"][1][\"description\"] = \"Dff and detrended traces\""
   ]
  },
  {
   "cell_type": "code",
   "execution_count": 6,
   "metadata": {},
   "outputs": [],
   "source": [
    "metadata_seg"
   ]
  },
  {
   "cell_type": "code",
   "execution_count": 34,
   "metadata": {},
   "outputs": [
    {
     "name": "stdout",
     "output_type": "stream",
     "text": [
      "writing nwb for NumpySegmentationExtractor\n",
      "\n"
     ]
    }
   ],
   "source": [
    "re.NwbSegmentationExtractor.write_segmentation(seg, nwbfile=nwbfile, metadata=metadata_seg)\n",
    "del nwbfile.devices[\"Microscope\"]"
   ]
  },
  {
   "cell_type": "code",
   "execution_count": 7,
   "metadata": {},
   "outputs": [],
   "source": [
    "nwbfile"
   ]
  },
  {
   "cell_type": "markdown",
   "metadata": {},
   "source": [
    "## Write file"
   ]
  },
  {
   "cell_type": "code",
   "execution_count": 8,
   "metadata": {},
   "outputs": [],
   "source": [
    "nwb_file_name = f\"{identifier}.nwb\"\n",
    "nwb_file_name"
   ]
  },
  {
   "cell_type": "code",
   "execution_count": 37,
   "metadata": {
    "scrolled": false
   },
   "outputs": [],
   "source": [
    "with pynwb.NWBHDF5IO(nwb_file_name, \"w\") as io:\n",
    "    io.write(nwbfile)"
   ]
  }
 ],
 "metadata": {
  "kernelspec": {
   "display_name": "Python 3 (ipykernel)",
   "language": "python",
   "name": "python3"
  },
  "language_info": {
   "codemirror_mode": {
    "name": "ipython",
    "version": 3
   },
   "file_extension": ".py",
   "mimetype": "text/x-python",
   "name": "python",
   "nbconvert_exporter": "python",
   "pygments_lexer": "ipython3",
   "version": "3.8.12"
  }
 },
 "nbformat": 4,
 "nbformat_minor": 4
}
